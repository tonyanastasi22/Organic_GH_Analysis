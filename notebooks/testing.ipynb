{
 "cells": [
  {
   "cell_type": "code",
   "execution_count": 2,
   "id": "cb9c7c56",
   "metadata": {},
   "outputs": [],
   "source": [
    "import pandas as pd\n",
    "import numpy as np\n",
    "from chemutils import (\n",
    "    to_numeric_cols, scatter_by_category, add_trendline_r2, annotate_extremes, add_inset_zoom, \n",
    "    delta_g_from_h_s, oxygen_demand_CxHyOzNw, balanced_products_CxHyOzNw, parse_formula, molar_mass)"
   ]
  },
  {
   "cell_type": "code",
   "execution_count": 6,
   "id": "e411a706",
   "metadata": {},
   "outputs": [
    {
     "name": "stdout",
     "output_type": "stream",
     "text": [
      "  Formula                    parsed\n",
      "0     CO2          {'C': 1, 'O': 2}\n",
      "1     NH3          {'N': 1, 'H': 3}\n",
      "2    HNO3  {'H': 1, 'N': 1, 'O': 3}\n",
      "3    CH3O  {'C': 1, 'H': 3, 'O': 1}\n",
      "4  NH4NO3  {'N': 2, 'H': 4, 'O': 3}\n"
     ]
    }
   ],
   "source": [
    "df=pd.DataFrame({\n",
    "    \"Formula\": [\"CO2\", \"NH3\", \"HNO3\", \"CH3O\", \"NH4NO3\"]\n",
    "})\n",
    "\n",
    "df['parsed'] = df['Formula'].apply(parse_formula)\n",
    "print(df)"
   ]
  }
 ],
 "metadata": {
  "kernelspec": {
   "display_name": "Python 3",
   "language": "python",
   "name": "python3"
  },
  "language_info": {
   "codemirror_mode": {
    "name": "ipython",
    "version": 3
   },
   "file_extension": ".py",
   "mimetype": "text/x-python",
   "name": "python",
   "nbconvert_exporter": "python",
   "pygments_lexer": "ipython3",
   "version": "3.13.7"
  }
 },
 "nbformat": 4,
 "nbformat_minor": 5
}
